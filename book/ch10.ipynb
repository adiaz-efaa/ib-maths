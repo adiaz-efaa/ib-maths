{
 "cells": [
  {
   "cell_type": "markdown",
   "id": "infectious-eight",
   "metadata": {},
   "source": [
    "# Cálculo Integral"
   ]
  },
  {
   "cell_type": "markdown",
   "id": "proved-psychiatry",
   "metadata": {},
   "source": [
    "Podemos encontrar la velocidad de un objeto en movimiento calculando la derivada de la función que mide su desplazamiento. Consideremos ahora el proceso inverso, podemos encontrar la función de desplazamiento de un objeto en movimiento cuando conocemos su velocidad, calculando la *antiderivada*, aquella función cuya derivada es el desplazamiento.\n",
    "\n",
    "El proceso de encontrar la *antiderivada* de una función se llama **integración**."
   ]
  },
  {
   "cell_type": "markdown",
   "id": "molecular-savage",
   "metadata": {},
   "source": [
    "## Antiderivadas y la Integral Indefinida"
   ]
  },
  {
   "cell_type": "markdown",
   "id": "pretty-indian",
   "metadata": {},
   "source": [
    "La función $F$ se dice la *antiderivada* de $f$ si $F'\\left(x\\right)=f\\left(x\\right)$."
   ]
  },
  {
   "cell_type": "markdown",
   "id": "little-burden",
   "metadata": {},
   "source": [
    "**Antiderivada de $x^n$**\n",
    "\n",
    "La *antiderivada* de $f\\left(x\\right)=x^n$ está dada por $F\\left(x\\right)=\\frac{1}{n+1}x^{n+1}+C$, donde $C\\in\\mathbb{R}$.\n",
    "\n",
    "Esto es fácil de comprobar si recordamos la regla para calcular la derivada $F$. Esta es $F'\\left(x\\right)=\\frac{n+1}{n+1}x^n$ (se baja el exponente y el nuevo exponente es igual al viejo menos 1). Recordar además que la derivada de una función constante es igual a 0 (esto es muy intuituitivo porque una función constante tiene siempre un gradiente igual a 0)."
   ]
  },
  {
   "cell_type": "markdown",
   "id": "cheap-morgan",
   "metadata": {},
   "source": [
    "**Ejemplo**\n",
    "\n",
    "Calculemos la antiderivada ($F\\left(x\\right)$ de:\n",
    "\n",
    "- $f\\left(x\\right)=x^8$ ---> $F\\left(x\\right)=\\frac{1}{9}x^9+C$\n",
    "\n",
    "\n",
    "- $f\\left(x\\right)=\\frac{1}{x^3}$ ---> $f\\left(x\\right)=x^{-3}$ ---> $F\\left(x\\right)=-\\frac{1}{2}x^{-2}+C$\n",
    "\n",
    "\n",
    "- $f\\left(x\\right)=\\sqrt[5]{x^3}$  --->  $f\\left(x\\right)=x^{\\frac{3}{5}}$  ---> $F\\left(x\\right)=\\frac{5}{8}x^{\\frac{8}{5}}+C$"
   ]
  },
  {
   "cell_type": "markdown",
   "id": "stable-reproduction",
   "metadata": {},
   "source": [
    "La **antidiferenciación** (encontrar la antiderivada) también se conoce como **integración indefinida** y se denota con el símbolo de integral:\n",
    "\n",
    "$$\\int dx$$\n",
    "\n",
    "Por ejemplo:\n",
    "\n",
    "$$\\int x^8 dx = \\frac{1}{9}x^9+C$$"
   ]
  },
  {
   "cell_type": "markdown",
   "id": "absolute-visitor",
   "metadata": {},
   "source": [
    "```{admonition} Nomenclatura\n",
    ":class: tip\n",
    "Si $F'\\left(x\\right)=f\\left(x\\right)$ se escribe $\\int f\\left(x\\right)dx=F\\left(x\\right)+C$.\n",
    "La expresión $\\int f\\left(x\\right)dx$ se conoce como la integral indefinida.\n",
    "$\\int f\\left(x\\right)dx$ se lee como *la integral de $f$ con respecto a $x$*.\n",
    "```"
   ]
  },
  {
   "cell_type": "markdown",
   "id": "fifty-circle",
   "metadata": {},
   "source": [
    "```{admonition} La Integral Indefinida es una Operación Lineal\n",
    ":class: tip\n",
    "$$\\int \\left[\\alpha f\\left(x\\right)+\\beta g\\left(x\\right)\\right]dx=\\alpha\\int f\\left(x\\right)dx+\\beta\\int g\\left(x\\right)dx$$\n",
    "\n",
    "donde $\\alpha,\\beta\\in\\mathbb{R}$.\n",
    "```"
   ]
  }
 ],
 "metadata": {
  "hide_input": false,
  "kernelspec": {
   "display_name": "Python 3",
   "language": "python",
   "name": "python3"
  },
  "language_info": {
   "codemirror_mode": {
    "name": "ipython",
    "version": 3
   },
   "file_extension": ".py",
   "mimetype": "text/x-python",
   "name": "python",
   "nbconvert_exporter": "python",
   "pygments_lexer": "ipython3",
   "version": "3.8.3"
  },
  "toc": {
   "base_numbering": "10",
   "nav_menu": {},
   "number_sections": true,
   "sideBar": true,
   "skip_h1_title": false,
   "title_cell": "Tabla de Contenidos",
   "title_sidebar": "Contenidos",
   "toc_cell": false,
   "toc_position": {
    "height": "calc(100% - 180px)",
    "left": "10px",
    "top": "150px",
    "width": "194px"
   },
   "toc_section_display": true,
   "toc_window_display": true
  },
  "varInspector": {
   "cols": {
    "lenName": 16,
    "lenType": 16,
    "lenVar": 40
   },
   "kernels_config": {
    "python": {
     "delete_cmd_postfix": "",
     "delete_cmd_prefix": "del ",
     "library": "var_list.py",
     "varRefreshCmd": "print(var_dic_list())"
    },
    "r": {
     "delete_cmd_postfix": ") ",
     "delete_cmd_prefix": "rm(",
     "library": "var_list.r",
     "varRefreshCmd": "cat(var_dic_list()) "
    }
   },
   "types_to_exclude": [
    "module",
    "function",
    "builtin_function_or_method",
    "instance",
    "_Feature"
   ],
   "window_display": false
  }
 },
 "nbformat": 4,
 "nbformat_minor": 5
}
